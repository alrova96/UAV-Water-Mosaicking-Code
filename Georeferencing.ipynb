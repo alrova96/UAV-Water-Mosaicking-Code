{
 "cells": [
  {
   "cell_type": "markdown",
   "id": "6d605060",
   "metadata": {},
   "source": [
    "# Georeferencing"
   ]
  },
  {
   "cell_type": "markdown",
   "id": "192de178",
   "metadata": {},
   "source": [
    "### This code was modified from Micasense: https://github.com/micasense/imageprocessing\n",
    "To use it, you have to set the Micasense conda environment prior to the processing steps."
   ]
  },
  {
   "cell_type": "code",
   "execution_count": null,
   "id": "efa6b5e6",
   "metadata": {},
   "outputs": [],
   "source": [
    "import cameratransform as ct\n",
    "\n",
    "for n in range(1):\n",
    "    log = pd.read_csv(os.path.join(imagePath, 'flight_stacks', 'log.csv'), index_col=False) # The log.csv contains geoinformation of the captures\n",
    "\n",
    "    focal = log['FocalLength'][n]\n",
    "    image_size = log['ImageWidth'][n], log['ImageHeight'][n]\n",
    "    lat = log['GPSLatitude'][n]\n",
    "    lon = log['GPSLongitude'][n]\n",
    "    alt = log['GPSAltitude'][n]\n",
    "    pitch = log['Pitch'][n]\n",
    "    roll = log['Roll'][n]\n",
    "    yaw = log['Yaw'][n]\n",
    "\n",
    "    cam = ct.Camera(ct.RectilinearProjection(focallength_mm=focal,\n",
    "                                         image=image_size),\n",
    "                   ct.SpatialOrientation(elevation_m=alt,\n",
    "                                     tilt_deg=0,\n",
    "                                     roll_deg=0,\n",
    "                                    heading_deg=270)) # This parameter should be set as 0º (when the UAV is heading East), 90º (when the UAV is heading North), 180º (when the UAV is heading West), or 270º (when the UAV is heading South). \n",
    "\n",
    "    # Latitude and Longitude of the GPS\n",
    "    cam.setGPSpos(lat, lon, alt)\n",
    "    \n",
    "    # Image corners coordinates\n",
    "    coords = np.array([cam.gpsFromImage([0 , 0]), \\\n",
    "        cam.gpsFromImage([image_size[0]-1 , 0]), \\\n",
    "        cam.gpsFromImage([image_size[0]-1, image_size[1]-1]), \\\n",
    "        cam.gpsFromImage([0 , image_size[1]-1])])\n",
    "\n",
    "    gcp1 = rasterio.control.GroundControlPoint(row=0, col=0, x=coords[0,1], y=coords[0,0], z=coords[0,2], id=None, info=None)\n",
    "    gcp2 = rasterio.control.GroundControlPoint(row=image_size[0]-1, col=0, x=coords[1,1], y=coords[1,0], z=coords[1,2], id=None, info=None)\n",
    "    gcp3 = rasterio.control.GroundControlPoint(row=image_size[0]-1, col=image_size[1]-1, x=coords[2,1], y=coords[2,0], z=coords[2,2], id=None, info=None)\n",
    "    gcp4 = rasterio.control.GroundControlPoint(row=0, col=image_size[1]-1, x=coords[3,1], y=coords[3,0], z=coords[3,2], id=None, info=None)\n",
    "\n",
    "    # Opening the original Image and generating a profile based on flight_stacks file generated before\n",
    "    with rasterio.open(os.path.join(imagePath, 'flight_stacks', log['ID'][n]), 'r') as src:\n",
    "        profile = src.profile\n",
    "\n",
    "        # Transformation\n",
    "        tsfm = rasterio.transform.from_gcps([gcp1,gcp2,gcp3,gcp4])\n",
    "    \n",
    "        crs = rasterio.crs.CRS({\"init\": \"epsg:4326\"})\n",
    "\n",
    "        profile.update(dtype=rasterio.uint8, transform = tsfm, crs=crs)\n",
    "\n",
    "        with rasterio.open(os.path.join(imagePath, 'georeferenced_stacks', log['ID'][n]), 'w', **profile) as dst:\n",
    "            print(src.read().shape)\n",
    "            dst.write(src.read().astype(rasterio.uint8)) # We write the coordinates in the image with this line."
   ]
  }
 ],
 "metadata": {
  "kernelspec": {
   "display_name": "Python [conda env:micasense] *",
   "language": "python",
   "name": "conda-env-micasense-py"
  },
  "language_info": {
   "codemirror_mode": {
    "name": "ipython",
    "version": 3
   },
   "file_extension": ".py",
   "mimetype": "text/x-python",
   "name": "python",
   "nbconvert_exporter": "python",
   "pygments_lexer": "ipython3",
   "version": "3.7.12"
  }
 },
 "nbformat": 4,
 "nbformat_minor": 5
}
